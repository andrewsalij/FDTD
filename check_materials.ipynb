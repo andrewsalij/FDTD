{
 "cells": [
  {
   "cell_type": "code",
   "execution_count": 2,
   "id": "829b4925-d22a-4b5a-8c58-820afe605c5d",
   "metadata": {},
   "outputs": [],
   "source": [
    "import meep as mp\n",
    "import mat_params"
   ]
  },
  {
   "cell_type": "code",
   "execution_count": 3,
   "id": "6892c9eb-e093-4d50-9637-c483438f652d",
   "metadata": {},
   "outputs": [],
   "source": [
    "au = mat_params.au_ir\n",
    "sio2 = mat_params.sio2_ir\n",
    "sin = mat_params.sinx_ir "
   ]
  },
  {
   "cell_type": "code",
   "execution_count": 9,
   "id": "8e11585f-bbe7-4f60-870b-4127956d03f6",
   "metadata": {},
   "outputs": [
    {
     "data": {
      "text/plain": [
       "[<meep.geom.DrudeSusceptibility at 0x7fa054631870>,\n",
       " <meep.geom.LorentzianSusceptibility at 0x7fa0546318a0>]"
      ]
     },
     "execution_count": 9,
     "metadata": {},
     "output_type": "execute_result"
    }
   ],
   "source": [
    "au.E_susceptibilities"
   ]
  },
  {
   "cell_type": "code",
   "execution_count": 10,
   "id": "b0710d82-f3ae-4411-a7a7-8e8ef7c8bfb1",
   "metadata": {},
   "outputs": [
    {
     "data": {
      "text/plain": [
       "[<meep.geom.LorentzianSusceptibility at 0x7fa054631180>,\n",
       " <meep.geom.LorentzianSusceptibility at 0x7fa0546311b0>]"
      ]
     },
     "execution_count": 10,
     "metadata": {},
     "output_type": "execute_result"
    }
   ],
   "source": [
    "sio2.E_susceptibilities"
   ]
  },
  {
   "cell_type": "code",
   "execution_count": 6,
   "id": "fecd78ac-8369-404a-904a-6af807e49913",
   "metadata": {},
   "outputs": [
    {
     "data": {
      "text/plain": [
       "[<meep.geom.LorentzianSusceptibility at 0x7fa054630f10>,\n",
       " <meep.geom.LorentzianSusceptibility at 0x7fa054630f40>]"
      ]
     },
     "execution_count": 6,
     "metadata": {},
     "output_type": "execute_result"
    }
   ],
   "source": [
    "sin.E_susceptibilities"
   ]
  },
  {
   "cell_type": "code",
   "execution_count": null,
   "id": "8e68ba14-e140-4bce-8e74-e889cc885b1e",
   "metadata": {},
   "outputs": [],
   "source": []
  }
 ],
 "metadata": {
  "kernelspec": {
   "display_name": "Python 3.10 (XPython)",
   "language": "python",
   "name": "xpython"
  },
  "language_info": {
   "file_extension": ".py",
   "mimetype": "text/x-python",
   "name": "python",
   "version": "3.10.1"
  }
 },
 "nbformat": 4,
 "nbformat_minor": 5
}
